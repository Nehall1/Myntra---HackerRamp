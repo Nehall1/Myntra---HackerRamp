{
  "nbformat": 4,
  "nbformat_minor": 0,
  "metadata": {
    "colab": {
      "provenance": [],
      "authorship_tag": "ABX9TyNqisg9vyU+DmscP7GgB+A9",
      "include_colab_link": true
    },
    "kernelspec": {
      "name": "python3",
      "display_name": "Python 3"
    },
    "language_info": {
      "name": "python"
    }
  },
  "cells": [
    {
      "cell_type": "markdown",
      "metadata": {
        "id": "view-in-github",
        "colab_type": "text"
      },
      "source": [
        "<a href=\"https://colab.research.google.com/github/Juhiibh/myntra-hackerramp/blob/main/Untitled1.ipynb\" target=\"_parent\"><img src=\"https://colab.research.google.com/assets/colab-badge.svg\" alt=\"Open In Colab\"/></a>"
      ]
    },
    {
      "cell_type": "code",
      "execution_count": null,
      "metadata": {
        "id": "VPsm167Ochco"
      },
      "outputs": [],
      "source": [
        "import tensorflow as tf\n",
        "import tensorflow_hub as hub\n",
        "import tensorflow_text as text\n",
        "\n",
        "import pandas as pd\n",
        "from sklearn.model_selection import train_test_split\n",
        "\n",
        "# Load data\n",
        "data = pd.read_csv('clothing_data.csv')\n",
        "\n",
        "# Split data into training and testing sets\n",
        "train_data, test_data = train_test_split(data, test_size=0.2, random_state=42)\n",
        "\n",
        "# Define input function\n",
        "def df_to_dataset(dataframe, shuffle=True, batch_size=32):\n",
        "    dataframe = dataframe.copy()\n",
        "    labels = dataframe.pop('type')\n",
        "    ds = tf.data.Dataset.from_tensor_slices((dict(dataframe), labels))\n",
        "    if shuffle:\n",
        "        ds = ds.shuffle(buffer_size=len(dataframe))\n",
        "    ds = ds.batch(batch_size)\n",
        "    return ds\n",
        "\n",
        "batch_size = 32\n",
        "train_dataset = df_to_dataset(train_data, batch_size=batch_size)\n",
        "test_dataset = df_to_dataset(test_data, shuffle=False, batch_size=batch_size)\n",
        "\n",
        "# Define feature columns using Universal Sentence Encoder\n",
        "embedding = hub.KerasLayer(\"https://tfhub.dev/google/universal-sentence-encoder/4\", input_shape=[], dtype=tf.string, trainable=False, name='USE_embedding')\n",
        "\n",
        "# Build the model\n",
        "model = tf.keras.Sequential([\n",
        "    embedding,\n",
        "    tf.keras.layers.Dense(128, activation='relu'),\n",
        "    tf.keras.layers.Dropout(0.2),\n",
        "    tf.keras.layers.Dense(64, activation='relu'),\n",
        "    tf.keras.layers.Dense(len(data['type'].unique()), activation='softmax')\n",
        "])\n",
        "\n",
        "model.compile(optimizer='adam',\n",
        "              loss='sparse_categorical_crossentropy',\n",
        "              metrics=['accuracy'])\n",
        "\n",
        "# Train the model\n",
        "model.fit(train_dataset,\n",
        "          validation_data=test_dataset,\n",
        "          epochs=10)\n",
        "\n",
        "# Function to make recommendations\n",
        "def recommend_clothes(description):\n",
        "    predictions = model.predict(tf.constant([description]))\n",
        "    predicted_type = tf.argmax(predictions[0]).numpy()\n",
        "    return predicted_type\n",
        "\n",
        "# Example usage\n",
        "description = \"floral cottagecore dress\"\n",
        "recommended_type = recommend_clothes(description)\n",
        "print(f\"Recommended type: {recommended_type}\")"
      ]
    }
  ]
}